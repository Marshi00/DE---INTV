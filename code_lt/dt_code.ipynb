{
 "cells": [
  {
   "cell_type": "markdown",
   "source": [
    "# Q1\n",
    "Given an array of integers nums and an integer target, return indices of the two numbers such that they add up to target.\n",
    "\n",
    "You may assume that each input would have exactly one solution, and you may not use the same element twice.\n",
    "\n",
    "You can return the answer in any order.\n",
    "\n",
    "\n",
    "\n",
    "Example 1:\n",
    "\n",
    "Input: nums = [2,7,11,15], target = 9\n",
    "Output: [0,1]\n",
    "Explanation: Because nums[0] + nums[1] == 9, we return [0, 1].\n",
    "Example 2:\n",
    "\n",
    "Input: nums = [3,2,4], target = 6\n",
    "Output: [1,2]\n",
    "Example 3:\n",
    "\n",
    "Input: nums = [3,3], target = 6\n",
    "Output: [0,1]\n",
    "\n",
    "\n",
    "Constraints:\n",
    "\n",
    "2 <= nums.length <= 104\n",
    "-109 <= nums[i] <= 109\n",
    "-109 <= target <= 109\n",
    "Only one valid answer exists."
   ],
   "metadata": {
    "collapsed": false,
    "pycharm": {
     "name": "#%% md\n"
    }
   }
  },
  {
   "cell_type": "code",
   "execution_count": 1,
   "metadata": {
    "collapsed": true,
    "pycharm": {
     "name": "#%%\n"
    }
   },
   "outputs": [],
   "source": [
    "class Solution:\n",
    "    def twoSum(self, nums, target: int) :\n",
    "        # Create an empty hashmap to store elements and their indices\n",
    "        num_map = {}\n",
    "\n",
    "        # Iterate through the array\n",
    "        for index, num in enumerate(nums):\n",
    "            # Calculate the difference between the target and the current element\n",
    "            diff = target - num\n",
    "\n",
    "            # Check if the difference exists in the hashmap\n",
    "            if diff in num_map:\n",
    "                # If yes, return the indices of the two elements\n",
    "                return [num_map[diff], index]\n",
    "\n",
    "            # If the difference is not in the hashmap, add the current element and its index to the hashmap\n",
    "            num_map[num] = index\n",
    "\n",
    "        # If no solution is found, return an empty list\n",
    "        return []"
   ]
  },
  {
   "cell_type": "code",
   "execution_count": 2,
   "outputs": [
    {
     "name": "stdout",
     "output_type": "stream",
     "text": [
      "[0, 1]\n",
      "[1, 2]\n",
      "[0, 1]\n"
     ]
    }
   ],
   "source": [
    "solution = Solution()\n",
    "print(solution.twoSum([2, 7, 11, 15], 9))  # Output: [0, 1]\n",
    "print(solution.twoSum([3, 2, 4], 6))      # Output: [1, 2]\n",
    "print(solution.twoSum([3, 3], 6))         # Output: [0, 1]"
   ],
   "metadata": {
    "collapsed": false,
    "pycharm": {
     "name": "#%%\n"
    }
   }
  },
  {
   "cell_type": "markdown",
   "source": [
    "# Q2\n",
    "You are given two non-empty linked lists representing two non-negative integers. The digits are stored in reverse order, and each of their nodes contains a single digit. Add the two numbers and return the sum as a linked list.\n",
    "\n",
    "You may assume the two numbers do not contain any leading zero, except the number 0 itself.\n",
    "\n",
    "\n",
    "\n",
    "Example 1:\n",
    "\n",
    "\n",
    "Input: l1 = [2,4,3], l2 = [5,6,4]\n",
    "Output: [7,0,8]\n",
    "Explanation: 342 + 465 = 807.\n",
    "Example 2:\n",
    "\n",
    "Input: l1 = [0], l2 = [0]\n",
    "Output: [0]\n",
    "Example 3:\n",
    "\n",
    "Input: l1 = [9,9,9,9,9,9,9], l2 = [9,9,9,9]\n",
    "Output: [8,9,9,9,0,0,0,1]\n",
    "\n",
    "\n",
    "Constraints:\n",
    "\n",
    "The number of nodes in each linked list is in the range [1, 100].\n",
    "0 <= Node.val <= 9\n",
    "It is guaranteed that the list represents a number that does not have leading zeros."
   ],
   "metadata": {
    "collapsed": false,
    "pycharm": {
     "name": "#%% md\n"
    }
   }
  },
  {
   "cell_type": "code",
   "execution_count": null,
   "outputs": [],
   "source": [
    "# Definition for singly-linked list.\n",
    "class ListNode:\n",
    "     def __init__(self, val=0, next=None):\n",
    "         self.val = val\n",
    "         self.next = next\n",
    "class Solution:\n",
    "    def addTwoNumbers(self, l1: [ListNode], l2: [ListNode]) -> [ListNode]:\n",
    "        dummy_head = ListNode(0)\n",
    "        current = dummy_head\n",
    "        carry = 0\n",
    "        while l1 is not None or l2 is not None or carry is not None:\n",
    "            x = l1.val if l1 is not None else 0\n",
    "            y = l2.val if l2 is not None else 0\n",
    "            total = x + y + carry\n",
    "            num = total % 10\n",
    "            carry = total // 10\n",
    "            current.next = ListNode(num)\n",
    "            current = current.next\n",
    "            l1 = l1.next if l1 else None\n",
    "            l2 = l2.next if l2 else None\n",
    "        head = dummy_head.next\n",
    "        dummy_head = None\n",
    "        return head\n",
    "\n"
   ],
   "metadata": {
    "collapsed": false,
    "pycharm": {
     "name": "#%%\n"
    }
   }
  },
  {
   "cell_type": "markdown",
   "source": [
    "# Q3\n",
    "Given a string s, find the length of the longest\n",
    "substring\n",
    " without repeating characters.\n",
    "\n",
    "\n",
    "\n",
    "Example 1:\n",
    "\n",
    "Input: s = \"abcabcbb\"\n",
    "Output: 3\n",
    "Explanation: The answer is \"abc\", with the length of 3.\n",
    "Example 2:\n",
    "\n",
    "Input: s = \"bbbbb\"\n",
    "Output: 1\n",
    "Explanation: The answer is \"b\", with the length of 1.\n",
    "Example 3:\n",
    "\n",
    "Input: s = \"pwwkew\"\n",
    "Output: 3\n",
    "Explanation: The answer is \"wke\", with the length of 3.\n",
    "Notice that the answer must be a substring, \"pwke\" is a subsequence and not a substring.\n",
    "\n",
    "\n",
    "Constraints:\n",
    "\n",
    "0 <= s.length <= 5 * 104\n",
    "s consists of English letters, digits, symbols and spaces."
   ],
   "metadata": {
    "collapsed": false,
    "pycharm": {
     "name": "#%% md\n"
    }
   }
  },
  {
   "cell_type": "code",
   "execution_count": 9,
   "outputs": [
    {
     "name": "stdout",
     "output_type": "stream",
     "text": [
      "7\n"
     ]
    }
   ],
   "source": [
    "class Solution:\n",
    "    def lengthOfLongestSubstring(self, s: str) -> int:\n",
    "        left_pointer = 0\n",
    "        max_length = 0\n",
    "        mapping_index = {}\n",
    "        for right_pointer in range(len(s)):\n",
    "            if s[right_pointer] in mapping_index and mapping_index[s[right_pointer]] >= left_pointer:\n",
    "                left_pointer = mapping_index[s[right_pointer]] + 1\n",
    "            mapping_index[s[right_pointer]] = right_pointer\n",
    "            max_length = max(max_length, (right_pointer - left_pointer) + 1)\n",
    "        return max_length\n",
    "solution = Solution()\n",
    "st = \"abcabcbb\"\n",
    "print(solution.lengthOfLongestSubstring(s=st))\n",
    "st = \"abcatygckl\"\n",
    "print(solution.lengthOfLongestSubstring(s=st))"
   ],
   "metadata": {
    "collapsed": false,
    "pycharm": {
     "name": "#%%\n"
    }
   }
  },
  {
   "cell_type": "markdown",
   "source": [
    "# Q4\n",
    "Given a signed 32-bit integer x, return x with its digits reversed. If reversing x causes the value to go outside the signed 32-bit integer range [-231, 231 - 1], then return 0.\n",
    "\n",
    "Assume the environment does not allow you to store 64-bit integers (signed or unsigned).\n",
    "\n",
    "\n",
    "\n",
    "Example 1:\n",
    "\n",
    "Input: x = 123\n",
    "Output: 321\n",
    "Example 2:\n",
    "\n",
    "Input: x = -123\n",
    "Output: -321\n",
    "Example 3:\n",
    "\n",
    "Input: x = 120\n",
    "Output: 21"
   ],
   "metadata": {
    "collapsed": false,
    "pycharm": {
     "name": "#%% md\n"
    }
   }
  },
  {
   "cell_type": "code",
   "execution_count": 13,
   "outputs": [
    {
     "name": "stdout",
     "output_type": "stream",
     "text": [
      "321\n",
      "-321\n",
      "21\n"
     ]
    }
   ],
   "source": [
    "def reverse_integer(x):\n",
    "    INT_MIN = -2**31\n",
    "    INT_MAX = 2**31 - 1\n",
    "\n",
    "    reverse_int = 0\n",
    "    negative = False\n",
    "\n",
    "    if x < 0 :\n",
    "        negative = True\n",
    "        x = abs(x)\n",
    "\n",
    "    while x !=0 :\n",
    "        last_degit = x % 10\n",
    "        x = x // 10\n",
    "\n",
    "        if reverse_int  > (INT_MAX - last_degit) // 10:\n",
    "            return 0\n",
    "\n",
    "        reverse_int = (reverse_int * 10) + last_degit\n",
    "\n",
    "    return -reverse_int if negative else reverse_int\n",
    "\n",
    "print(reverse_integer(123))  # Output: 321\n",
    "print(reverse_integer(-123)) # Output: -321\n",
    "print(reverse_integer(120))\n"
   ],
   "metadata": {
    "collapsed": false,
    "pycharm": {
     "name": "#%%\n"
    }
   }
  },
  {
   "cell_type": "markdown",
   "source": [
    "# Q5\n",
    "Implement the myAtoi(string s) function, which converts a string to a 32-bit signed integer (similar to C/C++'s atoi function).\n",
    "\n",
    "The algorithm for myAtoi(string s) is as follows:\n",
    "\n",
    "Read in and ignore any leading whitespace.\n",
    "Check if the next character (if not already at the end of the string) is '-' or '+'. Read this character in if it is either. This determines if the final result is negative or positive respectively. Assume the result is positive if neither is present.\n",
    "Read in next the characters until the next non-digit character or the end of the input is reached. The rest of the string is ignored.\n",
    "Convert these digits into an integer (i.e. \"123\" -> 123, \"0032\" -> 32). If no digits were read, then the integer is 0. Change the sign as necessary (from step 2).\n",
    "If the integer is out of the 32-bit signed integer range [-231, 231 - 1], then clamp the integer so that it remains in the range. Specifically, integers less than -231 should be clamped to -231, and integers greater than 231 - 1 should be clamped to 231 - 1.\n",
    "Return the integer as the final result.\n",
    "Note:\n",
    "\n",
    "Only the space character ' ' is considered a whitespace character.\n",
    "Do not ignore any characters other than the leading whitespace or the rest of the string after the digits.\n",
    "\n",
    "\n",
    "Example 1:\n",
    "\n",
    "Input: s = \"42\"\n",
    "Output: 42\n",
    "Explanation: The underlined characters are what is read in, the caret is the current reader position.\n",
    "Step 1: \"42\" (no characters read because there is no leading whitespace)\n",
    "         ^\n",
    "Step 2: \"42\" (no characters read because there is neither a '-' nor '+')\n",
    "         ^\n",
    "Step 3: \"42\" (\"42\" is read in)\n",
    "           ^\n",
    "The parsed integer is 42.\n",
    "Since 42 is in the range [-231, 231 - 1], the final result is 42.\n",
    "Example 2:\n",
    "\n",
    "Input: s = \"   -42\"\n",
    "Output: -42\n",
    "Explanation:\n",
    "Step 1: \"   -42\" (leading whitespace is read and ignored)\n",
    "            ^\n",
    "Step 2: \"   -42\" ('-' is read, so the result should be negative)\n",
    "             ^\n",
    "Step 3: \"   -42\" (\"42\" is read in)\n",
    "               ^\n",
    "The parsed integer is -42.\n",
    "Since -42 is in the range [-231, 231 - 1], the final result is -42.\n",
    "Example 3:\n",
    "\n",
    "Input: s = \"4193 with words\"\n",
    "Output: 4193\n",
    "Explanation:\n",
    "Step 1: \"4193 with words\" (no characters read because there is no leading whitespace)\n",
    "         ^\n",
    "Step 2: \"4193 with words\" (no characters read because there is neither a '-' nor '+')\n",
    "         ^\n",
    "Step 3: \"4193 with words\" (\"4193\" is read in; reading stops because the next character is a non-digit)\n",
    "             ^\n",
    "The parsed integer is 4193.\n",
    "Since 4193 is in the range [-231, 231 - 1], the final result is 4193.\n",
    "\n",
    "\n",
    "Constraints:\n",
    "\n",
    "0 <= s.length <= 200\n",
    "s consists of English letters (lower-case and upper-case), digits (0-9), ' ', '+', '-', and '.'."
   ],
   "metadata": {
    "collapsed": false,
    "pycharm": {
     "name": "#%% md\n"
    }
   }
  },
  {
   "cell_type": "code",
   "execution_count": null,
   "outputs": [],
   "source": [
    "class Solution:\n",
    "    def myAtoi(self, s: str) -> int:\n",
    "        INT_MAX = 2**31 - 1\n",
    "        INT_MIN = -2**31\n",
    "\n",
    "        i = 0\n",
    "\n",
    "        while i < len(s) and s[i] ==\" \":\n",
    "            i += 1\n",
    "\n",
    "        sign = 1\n",
    "\n",
    "        if i < len(s) and s[i] == \"+\" or s[i] == \"-\":\n",
    "            sign = -1 if s[i] == \"-\" else 1\n",
    "            i += 1\n",
    "\n",
    "        num = 0\n",
    "        while i < len(s) and s[i].isdigit():\n",
    "            degit = int(s[i])\n",
    "\n",
    "            if num > (INT_MAX - degit) // 10:\n",
    "                return INT_MAX if sign == 1 else INT_MIN\n",
    "\n",
    "            num = ( num * 10 ) + degit\n",
    "            i += 1\n",
    "\n",
    "        return num * sign\n"
   ],
   "metadata": {
    "collapsed": false,
    "pycharm": {
     "name": "#%%\n"
    }
   }
  },
  {
   "cell_type": "markdown",
   "source": [
    "# Q6\n",
    "You are given an integer array height of length n. There are n vertical lines drawn such that the two endpoints of the ith line are (i, 0) and (i, height[i]).\n",
    "\n",
    "Find two lines that together with the x-axis form a container, such that the container contains the most water.\n",
    "\n",
    "Return the maximum amount of water a container can store.\n",
    "\n",
    "Notice that you may not slant the container.\n",
    "\n",
    "\n",
    "\n",
    "Example 1:\n",
    "\n",
    "\n",
    "Input: height = [1,8,6,2,5,4,8,3,7]\n",
    "Output: 49\n",
    "Explanation: The above vertical lines are represented by array [1,8,6,2,5,4,8,3,7]. In this case, the max area of water (blue section) the container can contain is 49.\n",
    "Example 2:\n",
    "\n",
    "Input: height = [1,1]\n",
    "Output: 1\n",
    "\n",
    "\n",
    "Constraints:\n",
    "\n",
    "n == height.length\n",
    "2 <= n <= 105\n",
    "0 <= height[i] <= 104"
   ],
   "metadata": {
    "collapsed": false,
    "pycharm": {
     "name": "#%% md\n"
    }
   }
  },
  {
   "cell_type": "code",
   "execution_count": null,
   "outputs": [],
   "source": [
    "class Solution:\n",
    "    def maxArea(self, data_list: List[int]) -> int:\n",
    "        left = 0\n",
    "        right = len(data_list) - 1\n",
    "        max_area = 0\n",
    "\n",
    "        while left < right:\n",
    "            height = min(data_list[left], data_list[right])\n",
    "            width = right - left\n",
    "            area = height * width\n",
    "            max_area = max(max_area, area)\n",
    "\n",
    "            if data_list[left] < data_list[right]:\n",
    "                left += 1\n",
    "\n",
    "            else:\n",
    "                right -= 1\n",
    "\n",
    "        return max_area"
   ],
   "metadata": {
    "collapsed": false,
    "pycharm": {
     "name": "#%%\n"
    }
   }
  },
  {
   "cell_type": "markdown",
   "source": [
    "# Q7\n",
    "Given an integer x, return true if x is a\n",
    "palindrome\n",
    ", and false otherwise.\n",
    "\n",
    "\n",
    "\n",
    "Example 1:\n",
    "\n",
    "Input: x = 121\n",
    "Output: true\n",
    "Explanation: 121 reads as 121 from left to right and from right to left.\n",
    "Example 2:\n",
    "\n",
    "Input: x = -121\n",
    "Output: false\n",
    "Explanation: From left to right, it reads -121. From right to left, it becomes 121-. Therefore it is not a palindrome.\n",
    "Example 3:\n",
    "\n",
    "Input: x = 10\n",
    "Output: false\n",
    "Explanation: Reads 01 from right to left. Therefore it is not a palindrome.\n",
    "\n",
    "\n",
    "Constraints:\n",
    "\n",
    "-231 <= x <= 231 - 1"
   ],
   "metadata": {
    "collapsed": false,
    "pycharm": {
     "name": "#%% md\n"
    }
   }
  },
  {
   "cell_type": "code",
   "execution_count": null,
   "outputs": [],
   "source": [
    "class Solution:\n",
    "    def isPalindrome(self, x: int) -> bool:\n",
    "        if x < 0 :\n",
    "            return False\n",
    "\n",
    "        original = x\n",
    "        reverse_num = 0\n",
    "\n",
    "        while x > 0 :\n",
    "            degit = x % 10\n",
    "            reverse_num = (reverse_num * 10 ) + degit\n",
    "\n",
    "            x //= 10\n",
    "\n",
    "        return True if original == reverse_num else False"
   ],
   "metadata": {
    "collapsed": false,
    "pycharm": {
     "name": "#%%\n"
    }
   }
  },
  {
   "cell_type": "markdown",
   "source": [
    "# Q8\n",
    "Roman numerals are represented by seven different symbols: I, V, X, L, C, D and M.\n",
    "\n",
    "Symbol       Value\n",
    "I             1\n",
    "V             5\n",
    "X             10\n",
    "L             50\n",
    "C             100\n",
    "D             500\n",
    "M             1000\n",
    "For example, 2 is written as II in Roman numeral, just two one's added together. 12 is written as XII, which is simply X + II. The number 27 is written as XXVII, which is XX + V + II.\n",
    "\n",
    "Roman numerals are usually written largest to smallest from left to right. However, the numeral for four is not IIII. Instead, the number four is written as IV. Because the one is before the five we subtract it making four. The same principle applies to the number nine, which is written as IX. There are six instances where subtraction is used:\n",
    "\n",
    "I can be placed before V (5) and X (10) to make 4 and 9.\n",
    "X can be placed before L (50) and C (100) to make 40 and 90.\n",
    "C can be placed before D (500) and M (1000) to make 400 and 900.\n",
    "Given an integer, convert it to a roman numeral.\n",
    "\n",
    "\n",
    "\n",
    "Example 1:\n",
    "\n",
    "Input: num = 3\n",
    "Output: \"III\"\n",
    "Explanation: 3 is represented as 3 ones.\n",
    "Example 2:\n",
    "\n",
    "Input: num = 58\n",
    "Output: \"LVIII\"\n",
    "Explanation: L = 50, V = 5, III = 3.\n",
    "Example 3:\n",
    "\n",
    "Input: num = 1994\n",
    "Output: \"MCMXCIV\"\n",
    "Explanation: M = 1000, CM = 900, XC = 90 and IV = 4.\n",
    "\n",
    "\n",
    "Constraints:\n",
    "\n",
    "1 <= num <= 3999"
   ],
   "metadata": {
    "collapsed": false,
    "pycharm": {
     "name": "#%% md\n"
    }
   }
  },
  {
   "cell_type": "code",
   "execution_count": null,
   "outputs": [],
   "source": [
    "class Solution:\n",
    "    def intToRoman(self, num: int) -> str:\n",
    "        roman_values = [1000, 900, 500, 400, 100, 90, 50, 40, 10, 9, 5, 4, 1]\n",
    "        roman_symbols = [\"M\", \"CM\", \"D\", \"CD\", \"C\", \"XC\", \"L\", \"XL\", \"X\", \"IX\", \"V\", \"IV\", \"I\"]\n",
    "        result = \"\"\n",
    "\n",
    "        for i in range(len(roman_values)):\n",
    "            while num >= roman_values[i] :\n",
    "                result += roman_symbols[i]\n",
    "                num -= roman_values[i]\n",
    "\n",
    "        return result"
   ],
   "metadata": {
    "collapsed": false,
    "pycharm": {
     "name": "#%%\n"
    }
   }
  },
  {
   "cell_type": "markdown",
   "source": [
    "# Q9\n",
    "Roman numerals are represented by seven different symbols: I, V, X, L, C, D and M.\n",
    "\n",
    "Symbol       Value\n",
    "I             1\n",
    "V             5\n",
    "X             10\n",
    "L             50\n",
    "C             100\n",
    "D             500\n",
    "M             1000\n",
    "For example, 2 is written as II in Roman numeral, just two ones added together. 12 is written as XII, which is simply X + II. The number 27 is written as XXVII, which is XX + V + II.\n",
    "\n",
    "Roman numerals are usually written largest to smallest from left to right. However, the numeral for four is not IIII. Instead, the number four is written as IV. Because the one is before the five we subtract it making four. The same principle applies to the number nine, which is written as IX. There are six instances where subtraction is used:\n",
    "\n",
    "I can be placed before V (5) and X (10) to make 4 and 9.\n",
    "X can be placed before L (50) and C (100) to make 40 and 90.\n",
    "C can be placed before D (500) and M (1000) to make 400 and 900.\n",
    "Given a roman numeral, convert it to an integer.\n",
    "\n",
    "\n",
    "\n",
    "Example 1:\n",
    "\n",
    "Input: s = \"III\"\n",
    "Output: 3\n",
    "Explanation: III = 3.\n",
    "Example 2:\n",
    "\n",
    "Input: s = \"LVIII\"\n",
    "Output: 58\n",
    "Explanation: L = 50, V= 5, III = 3.\n",
    "Example 3:\n",
    "\n",
    "Input: s = \"MCMXCIV\"\n",
    "Output: 1994\n",
    "Explanation: M = 1000, CM = 900, XC = 90 and IV = 4.\n",
    "\n",
    "\n",
    "Constraints:\n",
    "\n",
    "1 <= s.length <= 15\n",
    "s contains only the characters ('I', 'V', 'X', 'L', 'C', 'D', 'M').\n",
    "It is guaranteed that s is a valid roman numeral in the range [1, 3999]."
   ],
   "metadata": {
    "collapsed": false,
    "pycharm": {
     "name": "#%% md\n"
    }
   }
  },
  {
   "cell_type": "code",
   "execution_count": null,
   "outputs": [],
   "source": [
    "class Solution:\n",
    "    def romanToInt(self, s: str) -> int:\n",
    "        roman_values = {\n",
    "            'I': 1,\n",
    "            'V': 5,\n",
    "            'X': 10,\n",
    "            'L': 50,\n",
    "            'C': 100,\n",
    "            'D': 500,\n",
    "            'M': 1000 }\n",
    "\n",
    "        total = 0\n",
    "        previous_value = 0\n",
    "\n",
    "        for symbol in s:\n",
    "            value = roman_values[symbol]\n",
    "\n",
    "            if value > previous_value :\n",
    "                total += (value - (2 * previous_value))\n",
    "            else :\n",
    "                total += value\n",
    "\n",
    "            previous_value = value\n",
    "\n",
    "        return total"
   ],
   "metadata": {
    "collapsed": false,
    "pycharm": {
     "name": "#%%\n"
    }
   }
  },
  {
   "cell_type": "markdown",
   "source": [
    "# Q10\n"
   ],
   "metadata": {
    "collapsed": false,
    "pycharm": {
     "name": "#%% md\n"
    }
   }
  },
  {
   "cell_type": "markdown",
   "source": [],
   "metadata": {
    "collapsed": false,
    "pycharm": {
     "name": "#%% md\n"
    }
   }
  },
  {
   "cell_type": "markdown",
   "source": [],
   "metadata": {
    "collapsed": false,
    "pycharm": {
     "name": "#%% md\n"
    }
   }
  }
 ],
 "metadata": {
  "kernelspec": {
   "display_name": "Python 3",
   "language": "python",
   "name": "python3"
  },
  "language_info": {
   "codemirror_mode": {
    "name": "ipython",
    "version": 2
   },
   "file_extension": ".py",
   "mimetype": "text/x-python",
   "name": "python",
   "nbconvert_exporter": "python",
   "pygments_lexer": "ipython2",
   "version": "2.7.6"
  }
 },
 "nbformat": 4,
 "nbformat_minor": 0
}