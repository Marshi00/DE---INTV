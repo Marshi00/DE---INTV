{
 "cells": [
  {
   "cell_type": "markdown",
   "source": [
    "# Q1\n",
    "Given an array of integers nums and an integer target, return indices of the two numbers such that they add up to target.\n",
    "\n",
    "You may assume that each input would have exactly one solution, and you may not use the same element twice.\n",
    "\n",
    "You can return the answer in any order.\n",
    "\n",
    "\n",
    "\n",
    "Example 1:\n",
    "\n",
    "Input: nums = [2,7,11,15], target = 9\n",
    "Output: [0,1]\n",
    "Explanation: Because nums[0] + nums[1] == 9, we return [0, 1].\n",
    "Example 2:\n",
    "\n",
    "Input: nums = [3,2,4], target = 6\n",
    "Output: [1,2]\n",
    "Example 3:\n",
    "\n",
    "Input: nums = [3,3], target = 6\n",
    "Output: [0,1]\n",
    "\n",
    "\n",
    "Constraints:\n",
    "\n",
    "2 <= nums.length <= 104\n",
    "-109 <= nums[i] <= 109\n",
    "-109 <= target <= 109\n",
    "Only one valid answer exists."
   ],
   "metadata": {
    "collapsed": false,
    "pycharm": {
     "name": "#%% md\n"
    }
   }
  },
  {
   "cell_type": "code",
   "execution_count": 1,
   "metadata": {
    "collapsed": true,
    "pycharm": {
     "name": "#%%\n"
    }
   },
   "outputs": [],
   "source": [
    "class Solution:\n",
    "    def twoSum(self, nums, target: int) :\n",
    "        # Create an empty hashmap to store elements and their indices\n",
    "        num_map = {}\n",
    "\n",
    "        # Iterate through the array\n",
    "        for index, num in enumerate(nums):\n",
    "            # Calculate the difference between the target and the current element\n",
    "            diff = target - num\n",
    "\n",
    "            # Check if the difference exists in the hashmap\n",
    "            if diff in num_map:\n",
    "                # If yes, return the indices of the two elements\n",
    "                return [num_map[diff], index]\n",
    "\n",
    "            # If the difference is not in the hashmap, add the current element and its index to the hashmap\n",
    "            num_map[num] = index\n",
    "\n",
    "        # If no solution is found, return an empty list\n",
    "        return []"
   ]
  },
  {
   "cell_type": "code",
   "execution_count": 2,
   "outputs": [
    {
     "name": "stdout",
     "output_type": "stream",
     "text": [
      "[0, 1]\n",
      "[1, 2]\n",
      "[0, 1]\n"
     ]
    }
   ],
   "source": [
    "solution = Solution()\n",
    "print(solution.twoSum([2, 7, 11, 15], 9))  # Output: [0, 1]\n",
    "print(solution.twoSum([3, 2, 4], 6))      # Output: [1, 2]\n",
    "print(solution.twoSum([3, 3], 6))         # Output: [0, 1]"
   ],
   "metadata": {
    "collapsed": false,
    "pycharm": {
     "name": "#%%\n"
    }
   }
  },
  {
   "cell_type": "markdown",
   "source": [
    "# Q2\n",
    "You are given two non-empty linked lists representing two non-negative integers. The digits are stored in reverse order, and each of their nodes contains a single digit. Add the two numbers and return the sum as a linked list.\n",
    "\n",
    "You may assume the two numbers do not contain any leading zero, except the number 0 itself.\n",
    "\n",
    "\n",
    "\n",
    "Example 1:\n",
    "\n",
    "\n",
    "Input: l1 = [2,4,3], l2 = [5,6,4]\n",
    "Output: [7,0,8]\n",
    "Explanation: 342 + 465 = 807.\n",
    "Example 2:\n",
    "\n",
    "Input: l1 = [0], l2 = [0]\n",
    "Output: [0]\n",
    "Example 3:\n",
    "\n",
    "Input: l1 = [9,9,9,9,9,9,9], l2 = [9,9,9,9]\n",
    "Output: [8,9,9,9,0,0,0,1]\n",
    "\n",
    "\n",
    "Constraints:\n",
    "\n",
    "The number of nodes in each linked list is in the range [1, 100].\n",
    "0 <= Node.val <= 9\n",
    "It is guaranteed that the list represents a number that does not have leading zeros."
   ],
   "metadata": {
    "collapsed": false,
    "pycharm": {
     "name": "#%% md\n"
    }
   }
  },
  {
   "cell_type": "code",
   "execution_count": null,
   "outputs": [],
   "source": [
    "# Definition for singly-linked list.\n",
    "class ListNode:\n",
    "     def __init__(self, val=0, next=None):\n",
    "         self.val = val\n",
    "         self.next = next\n",
    "class Solution:\n",
    "    def addTwoNumbers(self, l1: [ListNode], l2: [ListNode]) -> [ListNode]:\n",
    "        dummy_head = ListNode(0)\n",
    "        current = dummy_head\n",
    "        carry = 0\n",
    "        while l1 is not None or l2 is not None or carry is not None:\n",
    "            x = l1.val if l1 is not None else 0\n",
    "            y = l2.val if l2 is not None else 0\n",
    "            total = x + y + carry\n",
    "            num = total % 10\n",
    "            carry = total // 10\n",
    "            current.next = ListNode(num)\n",
    "            current = current.next\n",
    "            l1 = l1.next if l1 else None\n",
    "            l2 = l2.next if l2 else None\n",
    "        head = dummy_head.next\n",
    "        dummy_head = None\n",
    "        return head\n",
    "\n"
   ],
   "metadata": {
    "collapsed": false,
    "pycharm": {
     "name": "#%%\n"
    }
   }
  },
  {
   "cell_type": "markdown",
   "source": [
    "# Q3\n",
    "Given a string s, find the length of the longest\n",
    "substring\n",
    " without repeating characters.\n",
    "\n",
    "\n",
    "\n",
    "Example 1:\n",
    "\n",
    "Input: s = \"abcabcbb\"\n",
    "Output: 3\n",
    "Explanation: The answer is \"abc\", with the length of 3.\n",
    "Example 2:\n",
    "\n",
    "Input: s = \"bbbbb\"\n",
    "Output: 1\n",
    "Explanation: The answer is \"b\", with the length of 1.\n",
    "Example 3:\n",
    "\n",
    "Input: s = \"pwwkew\"\n",
    "Output: 3\n",
    "Explanation: The answer is \"wke\", with the length of 3.\n",
    "Notice that the answer must be a substring, \"pwke\" is a subsequence and not a substring.\n",
    "\n",
    "\n",
    "Constraints:\n",
    "\n",
    "0 <= s.length <= 5 * 104\n",
    "s consists of English letters, digits, symbols and spaces."
   ],
   "metadata": {
    "collapsed": false,
    "pycharm": {
     "name": "#%% md\n"
    }
   }
  },
  {
   "cell_type": "code",
   "execution_count": 9,
   "outputs": [
    {
     "name": "stdout",
     "output_type": "stream",
     "text": [
      "7\n"
     ]
    }
   ],
   "source": [
    "class Solution:\n",
    "    def lengthOfLongestSubstring(self, s: str) -> int:\n",
    "        left_pointer = 0\n",
    "        max_length = 0\n",
    "        mapping_index = {}\n",
    "        for right_pointer in range(len(s)):\n",
    "            if s[right_pointer] in mapping_index and mapping_index[s[right_pointer]] >= left_pointer:\n",
    "                left_pointer = mapping_index[s[right_pointer]] + 1\n",
    "            mapping_index[s[right_pointer]] = right_pointer\n",
    "            max_length = max(max_length, (right_pointer - left_pointer) + 1)\n",
    "        return max_length\n",
    "solution = Solution()\n",
    "st = \"abcabcbb\"\n",
    "print(solution.lengthOfLongestSubstring(s=st))\n",
    "st = \"abcatygckl\"\n",
    "print(solution.lengthOfLongestSubstring(s=st))"
   ],
   "metadata": {
    "collapsed": false,
    "pycharm": {
     "name": "#%%\n"
    }
   }
  },
  {
   "cell_type": "markdown",
   "source": [
    "# Q4\n",
    "Given a signed 32-bit integer x, return x with its digits reversed. If reversing x causes the value to go outside the signed 32-bit integer range [-231, 231 - 1], then return 0.\n",
    "\n",
    "Assume the environment does not allow you to store 64-bit integers (signed or unsigned).\n",
    "\n",
    "\n",
    "\n",
    "Example 1:\n",
    "\n",
    "Input: x = 123\n",
    "Output: 321\n",
    "Example 2:\n",
    "\n",
    "Input: x = -123\n",
    "Output: -321\n",
    "Example 3:\n",
    "\n",
    "Input: x = 120\n",
    "Output: 21"
   ],
   "metadata": {
    "collapsed": false,
    "pycharm": {
     "name": "#%% md\n"
    }
   }
  },
  {
   "cell_type": "code",
   "execution_count": 13,
   "outputs": [
    {
     "name": "stdout",
     "output_type": "stream",
     "text": [
      "321\n",
      "-321\n",
      "21\n"
     ]
    }
   ],
   "source": [
    "def reverse_integer(x):\n",
    "    INT_MIN = -2**31\n",
    "    INT_MAX = 2**31 - 1\n",
    "\n",
    "    reverse_int = 0\n",
    "    negative = False\n",
    "\n",
    "    if x < 0 :\n",
    "        negative = True\n",
    "        x = abs(x)\n",
    "\n",
    "    while x !=0 :\n",
    "        last_degit = x % 10\n",
    "        x = x // 10\n",
    "\n",
    "        if reverse_int  > (INT_MAX - last_degit) // 10:\n",
    "            return 0\n",
    "\n",
    "        reverse_int = (reverse_int * 10) + last_degit\n",
    "\n",
    "    return -reverse_int if negative else reverse_int\n",
    "\n",
    "print(reverse_integer(123))  # Output: 321\n",
    "print(reverse_integer(-123)) # Output: -321\n",
    "print(reverse_integer(120))\n"
   ],
   "metadata": {
    "collapsed": false,
    "pycharm": {
     "name": "#%%\n"
    }
   }
  },
  {
   "cell_type": "code",
   "execution_count": null,
   "outputs": [],
   "source": [],
   "metadata": {
    "collapsed": false,
    "pycharm": {
     "name": "#%%\n"
    }
   }
  }
 ],
 "metadata": {
  "kernelspec": {
   "display_name": "Python 3",
   "language": "python",
   "name": "python3"
  },
  "language_info": {
   "codemirror_mode": {
    "name": "ipython",
    "version": 2
   },
   "file_extension": ".py",
   "mimetype": "text/x-python",
   "name": "python",
   "nbconvert_exporter": "python",
   "pygments_lexer": "ipython2",
   "version": "2.7.6"
  }
 },
 "nbformat": 4,
 "nbformat_minor": 0
}