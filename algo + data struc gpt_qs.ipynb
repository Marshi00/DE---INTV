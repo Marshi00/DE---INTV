{
 "cells": [
  {
   "cell_type": "markdown",
   "source": [
    "# Q1\n",
    "Explain what a linked list is and discuss its advantages and disadvantages compared to an array."
   ],
   "metadata": {
    "collapsed": false,
    "pycharm": {
     "name": "#%% md\n"
    }
   }
  },
  {
   "cell_type": "markdown",
   "source": [
    "A linked list is a data structure consisting of nodes, where each node contains a data element and a reference (or pointer) to the next node in the sequence. The advantages of a linked list over an array include dynamic size, ease of insertion and deletion at any position, and efficient memory utilization. However, linked lists have slower random access time and require extra memory for storing pointers.\n",
    "\n",
    "1 -> 5 -> 9 -> 12 -> None\n",
    "Advantages of Linked List:\n",
    "\n",
    "Dynamic size: Linked lists can grow or shrink as needed, utilizing memory more efficiently than arrays, which have a fixed size.\n",
    "Efficient insertion and deletion: Inserting or deleting an element in a linked list involves updating pointers, making it faster compared to arrays, where shifting elements is required.\n",
    "Disadvantages of Linked List:\n",
    "\n",
    "Slower random access: Accessing elements in a linked list takes O(n) time in the worst case, compared to O(1) for arrays.\n",
    "Extra memory overhead: Each node in a linked list requires additional memory to store pointers, increasing overall memory consumption."
   ],
   "metadata": {
    "collapsed": false,
    "pycharm": {
     "name": "#%% md\n"
    }
   }
  },
  {
   "cell_type": "markdown",
   "source": [
    "# Q2\n",
    "Describe the difference between a binary tree and a binary search tree (BST). What is the time complexity for searching a value in a BST?"
   ],
   "metadata": {
    "collapsed": false,
    "pycharm": {
     "name": "#%% md\n"
    }
   }
  },
  {
   "cell_type": "markdown",
   "source": [
    "A binary tree is a tree data structure in which each node can have at most two children (left and right). A binary search tree (BST) is a special type of binary tree where the left child's value is less than the parent's value, and the right child's value is greater. This property allows for efficient searching, with a time complexity of O(log n) for balanced BSTs. However, a binary tree can degenerate into a linked list, resulting in a worst-case time complexity of O(n) for searching.\n",
    "\n",
    "Binary Tree:\n",
    "\n",
    "markdown\n",
    "Copy code\n",
    "    1\n",
    "   / \\\n",
    "  2   3\n",
    " / \\\n",
    "4   5\n",
    "Binary Search Tree (BST):\n",
    "\n",
    "markdown\n",
    "Copy code\n",
    "    4\n",
    "   / \\\n",
    "  2   5\n",
    " / \\\n",
    "1   3\n",
    "In a binary tree, there are no restrictions on the order of elements in the nodes. However, in a binary search tree (BST), the left child's value of any node is less than its parent's value, and the right child's value is greater.\n",
    "\n",
    "Time complexity for searching a value in a BST is O(log n) in a balanced BST. This is because at each level, the search eliminates half of the remaining elements. However, in the worst case, when the tree is skewed (i.e., all elements are on one side), the time complexity becomes O(n)."
   ],
   "metadata": {
    "collapsed": false,
    "pycharm": {
     "name": "#%% md\n"
    }
   }
  },
  {
   "cell_type": "markdown",
   "source": [
    "# Q3\n",
    "How does a hash table work? Explain its collision resolution techniques, such as chaining and open addressing."
   ],
   "metadata": {
    "collapsed": false,
    "pycharm": {
     "name": "#%% md\n"
    }
   }
  },
  {
   "cell_type": "markdown",
   "source": [
    "A hash table is a data structure that stores key-value pairs, allowing efficient retrieval of values based on their keys. Collision occurs when two different keys hash to the same location. Chaining resolves collisions by creating linked lists at the same hash index to store multiple key-value pairs. Open addressing handles collisions by probing for the next available slot in the hash table.\n",
    "\n",
    "Example:\n",
    "Suppose we have a simple hash table that maps fruits to their colors:\n",
    "\n",
    "mathematica\n",
    "Copy code\n",
    "Hash Table:\n",
    "Index 0: None\n",
    "Index 1: None\n",
    "Index 2: None\n",
    "Index 3: (\"apple\", \"red\")\n",
    "Index 4: (\"banana\", \"yellow\")\n",
    "Index 5: None\n",
    "Index 6: (\"orange\", \"orange\")\n",
    "Index 7: None\n",
    "Index 8: None\n",
    "Index 9: (\"grape\", \"purple\")\n",
    "Hash table stores key-value pairs. The hash function maps the key to an index in the array. In this example, the keys \"apple,\" \"banana,\" \"orange,\" and \"grape\" are hashed to their respective indices based on the hash function.\n",
    "\n",
    "Collision Resolution Techniques:\n",
    "\n",
    "Chaining: When two keys are hashed to the same index, a linked list or another data structure is used to store multiple key-value pairs at the same index.\n",
    "Open Addressing: When a collision occurs, the algorithm probes for the next available slot in the hash table by using a sequence of steps (e.g., linear probing, quadratic probing, or double hashing)."
   ],
   "metadata": {
    "collapsed": false,
    "pycharm": {
     "name": "#%% md\n"
    }
   }
  },
  {
   "cell_type": "markdown",
   "source": [
    "# Q4\n",
    "What is the time complexity of common sorting algorithms like Bubble Sort, Merge Sort, and Quick Sort? Compare their performance and discuss the best use cases for each."
   ],
   "metadata": {
    "collapsed": false,
    "pycharm": {
     "name": "#%% md\n"
    }
   }
  },
  {
   "cell_type": "markdown",
   "source": [],
   "metadata": {
    "collapsed": false,
    "pycharm": {
     "name": "#%% md\n"
    }
   }
  },
  {
   "cell_type": "markdown",
   "source": [
    "# Q5\n",
    "Explain Depth-First Search (DFS) and Breadth-First Search (BFS) traversal algorithms. When would you use one over the other?"
   ],
   "metadata": {
    "collapsed": false,
    "pycharm": {
     "name": "#%% md\n"
    }
   }
  },
  {
   "cell_type": "markdown",
   "source": [],
   "metadata": {
    "collapsed": false,
    "pycharm": {
     "name": "#%% md\n"
    }
   }
  },
  {
   "cell_type": "markdown",
   "source": [
    "# Q6\n",
    "Explain Depth-First Search (DFS) and Breadth-First Search (BFS) traversal algorithms. When would you use one over the other?"
   ],
   "metadata": {
    "collapsed": false,
    "pycharm": {
     "name": "#%% md\n"
    }
   }
  },
  {
   "cell_type": "markdown",
   "source": [],
   "metadata": {
    "collapsed": false,
    "pycharm": {
     "name": "#%% md\n"
    }
   }
  },
  {
   "cell_type": "markdown",
   "source": [
    "# Q7\n",
    "Given a string, implement an algorithm to check if it is a palindrome or not."
   ],
   "metadata": {
    "collapsed": false,
    "pycharm": {
     "name": "#%% md\n"
    }
   }
  },
  {
   "cell_type": "markdown",
   "source": [],
   "metadata": {
    "collapsed": false,
    "pycharm": {
     "name": "#%% md\n"
    }
   }
  },
  {
   "cell_type": "markdown",
   "source": [
    "# Q8\n",
    "Describe the concept of dynamic programming and provide an example problem where dynamic programming can be applied for optimization."
   ],
   "metadata": {
    "collapsed": false,
    "pycharm": {
     "name": "#%% md\n"
    }
   }
  },
  {
   "cell_type": "markdown",
   "source": [],
   "metadata": {
    "collapsed": false,
    "pycharm": {
     "name": "#%% md\n"
    }
   }
  },
  {
   "cell_type": "markdown",
   "source": [
    "# Q9\n",
    "What is Dijkstra's algorithm? Explain how it works and its time complexity for finding the shortest path in a weighted graph."
   ],
   "metadata": {
    "collapsed": false,
    "pycharm": {
     "name": "#%% md\n"
    }
   }
  },
  {
   "cell_type": "markdown",
   "source": [],
   "metadata": {
    "collapsed": false,
    "pycharm": {
     "name": "#%% md\n"
    }
   }
  },
  {
   "cell_type": "markdown",
   "source": [
    "# Q10\n",
    "How do you detect cycles in a directed graph? Provide an algorithm to do so."
   ],
   "metadata": {
    "collapsed": false,
    "pycharm": {
     "name": "#%% md\n"
    }
   }
  },
  {
   "cell_type": "markdown",
   "source": [],
   "metadata": {
    "collapsed": false,
    "pycharm": {
     "name": "#%% md\n"
    }
   }
  },
  {
   "cell_type": "markdown",
   "source": [
    "# Q11\n",
    "Implement an algorithm to check if a binary tree is balanced (i.e., the heights of the two subtrees of any node never differ by more than one)."
   ],
   "metadata": {
    "collapsed": false,
    "pycharm": {
     "name": "#%% md\n"
    }
   }
  },
  {
   "cell_type": "markdown",
   "source": [],
   "metadata": {
    "collapsed": false,
    "pycharm": {
     "name": "#%% md\n"
    }
   }
  },
  {
   "cell_type": "markdown",
   "source": [
    "# Q12\n",
    "Describe how a heap data structure works. What is the time complexity for inserting an element into a heap? And how do you perform a heapify operation?"
   ],
   "metadata": {
    "collapsed": false,
    "pycharm": {
     "name": "#%% md\n"
    }
   }
  },
  {
   "cell_type": "markdown",
   "source": [],
   "metadata": {
    "collapsed": false,
    "pycharm": {
     "name": "#%% md\n"
    }
   }
  },
  {
   "cell_type": "markdown",
   "source": [
    "# Q13\n",
    "Discuss the differences between a stack and a queue data structure. Provide examples of their real-world applications."
   ],
   "metadata": {
    "collapsed": false,
    "pycharm": {
     "name": "#%% md\n"
    }
   }
  },
  {
   "cell_type": "markdown",
   "source": [],
   "metadata": {
    "collapsed": false,
    "pycharm": {
     "name": "#%% md\n"
    }
   }
  },
  {
   "cell_type": "markdown",
   "source": [
    "# Q14\n",
    "Implement a function to reverse a linked list iteratively and recursively."
   ],
   "metadata": {
    "collapsed": false,
    "pycharm": {
     "name": "#%% md\n"
    }
   }
  },
  {
   "cell_type": "markdown",
   "source": [],
   "metadata": {
    "collapsed": false,
    "pycharm": {
     "name": "#%% md\n"
    }
   }
  },
  {
   "cell_type": "markdown",
   "source": [
    "# Q15\n",
    "Given an array of integers, find the two elements that appear only once, while all the other elements appear twice. Implement an algorithm with linear runtime complexity and constant space complexity."
   ],
   "metadata": {
    "collapsed": false,
    "pycharm": {
     "name": "#%% md\n"
    }
   }
  },
  {
   "cell_type": "markdown",
   "source": [],
   "metadata": {
    "collapsed": false,
    "pycharm": {
     "name": "#%% md\n"
    }
   }
  },
  {
   "cell_type": "markdown",
   "source": [
    "# Q16\n",
    "\n",
    "Compare Os of all data structures + example of each difference and what they mean by that sample codes"
   ],
   "metadata": {
    "collapsed": false,
    "pycharm": {
     "name": "#%% md\n"
    }
   }
  },
  {
   "cell_type": "code",
   "execution_count": null,
   "metadata": {
    "collapsed": true,
    "pycharm": {
     "name": "#%%\n"
    }
   },
   "outputs": [],
   "source": []
  }
 ],
 "metadata": {
  "kernelspec": {
   "display_name": "Python 3",
   "language": "python",
   "name": "python3"
  },
  "language_info": {
   "codemirror_mode": {
    "name": "ipython",
    "version": 2
   },
   "file_extension": ".py",
   "mimetype": "text/x-python",
   "name": "python",
   "nbconvert_exporter": "python",
   "pygments_lexer": "ipython2",
   "version": "2.7.6"
  }
 },
 "nbformat": 4,
 "nbformat_minor": 0
}