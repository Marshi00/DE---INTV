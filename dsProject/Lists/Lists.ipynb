{
 "cells": [
  {
   "cell_type": "markdown",
   "source": [
    "# Q1"
   ],
   "metadata": {
    "collapsed": false,
    "pycharm": {
     "name": "#%% md\n"
    }
   }
  },
  {
   "cell_type": "markdown",
   "source": [
    "Given a list of numbers, return the unique values. The output should be a list ordered by the first occurrence of the number.\n",
    "\n",
    "\n",
    "\n",
    "Example 1:\n",
    "\n",
    "Input: [1, 1, 1, 2, 3, 4, 4, 1]\n",
    "\n",
    "Output: [1, 2, 3, 4, 5]\n",
    "\n",
    "\n",
    "\n",
    "Example 2:\n",
    "\n",
    "Input: [1, 7, 2, 9]\n",
    "\n",
    "Output: [1, 7, 2, 9]"
   ],
   "metadata": {
    "collapsed": false,
    "pycharm": {
     "name": "#%% md\n"
    }
   }
  },
  {
   "cell_type": "code",
   "execution_count": 3,
   "metadata": {
    "collapsed": true,
    "pycharm": {
     "name": "#%%\n"
    }
   },
   "outputs": [
    {
     "name": "stdout",
     "output_type": "stream",
     "text": [
      "[1, 7, 2, 9]\n"
     ]
    }
   ],
   "source": [
    "given_list = [1, 7, 2, 9]\n",
    "uq_list = []\n",
    "for num in given_list:\n",
    "    if num not in uq_list:\n",
    "        uq_list.append(num)\n",
    "print(uq_list)\n"
   ]
  },
  {
   "cell_type": "markdown",
   "source": [
    "# Q2"
   ],
   "metadata": {
    "collapsed": false,
    "pycharm": {
     "name": "#%% md\n"
    }
   }
  },
  {
   "cell_type": "markdown",
   "source": [
    "Given a nested list, return a flattened list with only the distinct numbers. The output should be a list ordered by the first occurrence of the number.\n",
    "\n",
    "\n",
    "\n",
    "Example 1:\n",
    "\n",
    "Input: [1, 2, 3, [1, 2], [4, 5], 1]\n",
    "\n",
    "Output: [1, 2, 3, 4, 5]\n",
    "\n",
    "\n",
    "\n",
    "Example 2:\n",
    "\n",
    "Input: [1, 5, [2], [4, [3, 4]]]\n",
    "\n",
    "Output: [1, 5, 2, 4, 3]"
   ],
   "metadata": {
    "collapsed": false,
    "pycharm": {
     "name": "#%% md\n"
    }
   }
  },
  {
   "cell_type": "code",
   "execution_count": 25,
   "outputs": [
    {
     "name": "stdout",
     "output_type": "stream",
     "text": [
      "[1, 2, 3, 4, 5, 7, 8]\n"
     ]
    }
   ],
   "source": [
    "given_list = [1, 2, 3, [1, 2, [7, 8]], [4, 5], 1]\n",
    "def flatten_uq_list(nested_list):\n",
    "    result = set()\n",
    "    for item in nested_list:\n",
    "        if isinstance(item, int):\n",
    "            result.add(item)\n",
    "        elif isinstance(item, list):\n",
    "            result.update(flatten_uq_list(item))\n",
    "    return list(result)\n",
    "\n",
    "print(flatten_uq_list(given_list))\n"
   ],
   "metadata": {
    "collapsed": false,
    "pycharm": {
     "name": "#%%\n"
    }
   }
  },
  {
   "cell_type": "code",
   "execution_count": 28,
   "outputs": [
    {
     "name": "stdout",
     "output_type": "stream",
     "text": [
      "[1, 2, 3, 1, 2, 7, 8, 4, 5]\n"
     ]
    }
   ],
   "source": [
    "def flatten_uq_list(nested_list):\n",
    "    result = []\n",
    "    for item in nested_list:\n",
    "        if isinstance(item, int):\n",
    "            if item not in result:\n",
    "                result.append(item)\n",
    "        elif isinstance(item, list):\n",
    "            result.extend(flatten_uq_list(item))\n",
    "    return result\n",
    "\n",
    "given_list = [1, 2, 3, [1, 2, [7, 8]], [4, 5], 1]\n",
    "print(flatten_uq_list(given_list))"
   ],
   "metadata": {
    "collapsed": false,
    "pycharm": {
     "name": "#%%\n"
    }
   }
  },
  {
   "cell_type": "markdown",
   "source": [
    "# Q3"
   ],
   "metadata": {
    "collapsed": false,
    "pycharm": {
     "name": "#%% md\n"
    }
   }
  },
  {
   "cell_type": "markdown",
   "source": [
    "Find the number of occurrences of each number in the list and store the result.\n",
    "\n",
    "\n",
    "\n",
    "Example 1:\n",
    "\n",
    "Input: [1, 2, 1, 2, 2, 5, 7]\n",
    "\n",
    "Output: {1: 2, 2: 3, 5: 1, 7: 1}"
   ],
   "metadata": {
    "collapsed": false,
    "pycharm": {
     "name": "#%% md\n"
    }
   }
  },
  {
   "cell_type": "code",
   "execution_count": 27,
   "outputs": [
    {
     "name": "stdout",
     "output_type": "stream",
     "text": [
      "{1: 2, 2: 3, 5: 1, 7: 1}\n"
     ]
    }
   ],
   "source": [
    "def count_occ(given_list):\n",
    "    count = {}\n",
    "    for item in given_list:\n",
    "        count[item] = count.get(item, 0) + 1\n",
    "    return count\n",
    "\n",
    "input = [1, 2, 1, 2, 2, 5, 7]\n",
    "print(count_occ(input))\n",
    "\n"
   ],
   "metadata": {
    "collapsed": false,
    "pycharm": {
     "name": "#%%\n"
    }
   }
  },
  {
   "cell_type": "markdown",
   "source": [],
   "metadata": {
    "collapsed": false,
    "pycharm": {
     "name": "#%% md\n"
    }
   }
  }
 ],
 "metadata": {
  "kernelspec": {
   "display_name": "Python 3",
   "language": "python",
   "name": "python3"
  },
  "language_info": {
   "codemirror_mode": {
    "name": "ipython",
    "version": 2
   },
   "file_extension": ".py",
   "mimetype": "text/x-python",
   "name": "python",
   "nbconvert_exporter": "python",
   "pygments_lexer": "ipython2",
   "version": "2.7.6"
  }
 },
 "nbformat": 4,
 "nbformat_minor": 0
}