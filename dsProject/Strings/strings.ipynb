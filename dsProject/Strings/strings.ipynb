{
 "cells": [
  {
   "cell_type": "markdown",
   "source": [],
   "metadata": {
    "collapsed": false,
    "pycharm": {
     "name": "#%% md\n"
    }
   }
  },
  {
   "cell_type": "markdown",
   "source": [
    "# Q1"
   ],
   "metadata": {
    "collapsed": false,
    "pycharm": {
     "name": "#%% md\n"
    }
   }
  },
  {
   "cell_type": "markdown",
   "source": [
    "Given an input string s, reverse the order of the words.\n",
    "\n",
    "A word is defined as a sequence of non-space characters. The words in s will be separated by at least one space.\n",
    "\n",
    "Return a string of the words in reverse order concatenated by a single space.\n",
    "\n",
    "Note that s may contain leading or trailing spaces or multiple spaces between two words. The returned string should only have a single space separating the words. Do not include any extra spaces.\n",
    "\n",
    "\n",
    "\n",
    "Example 1:\n",
    "\n",
    "Input: s = \"the sky is blue\"\n",
    "\n",
    "Output: \"blue is sky the\"\n",
    "\n",
    "\n",
    "\n",
    "Example 2:\n",
    "\n",
    "Input: s = \"  hello world  \"\n",
    "\n",
    "Output: \"world hello\"\n",
    "\n",
    "Explanation: Your reversed string should not contain leading or trailing spaces.\n",
    "\n",
    "\n",
    "\n",
    "Example 3:\n",
    "\n",
    "Input: s = \"a good   example\"\n",
    "\n",
    "Output: \"example good a\"\n",
    "\n",
    "Explanation: You need to reduce multiple spaces between two words to a single space in the reversed string.\n",
    "\n",
    "\n",
    "\n",
    "Example 4:\n",
    "\n",
    "Input: s = \"  Bob    Loves  Alice   \"\n",
    "\n",
    "Output: \"Alice Loves Bob\"\n",
    "\n",
    "\n",
    "\n",
    "Example 5:\n",
    "\n",
    "Input: s = \"Alice does not even like bob\"\n",
    "\n",
    "Output: \"bob like even not does Alice\""
   ],
   "metadata": {
    "collapsed": false,
    "pycharm": {
     "name": "#%% md\n"
    }
   }
  },
  {
   "cell_type": "code",
   "execution_count": 30,
   "outputs": [
    {
     "name": "stdout",
     "output_type": "stream",
     "text": [
      "['example', 'good', 'a']\n",
      "example good a\n"
     ]
    }
   ],
   "source": [
    "input = \"   a good   example\"\n",
    "split_input = input.split()\n",
    "split_input.reverse()\n",
    "print(split_input)\n",
    "mapped = map(str, split_input)\n",
    "new_string = ' '.join(mapped)\n",
    "\n",
    "print(new_string)"
   ],
   "metadata": {
    "collapsed": false,
    "pycharm": {
     "name": "#%%\n"
    }
   }
  },
  {
   "cell_type": "markdown",
   "source": [
    "# Q2"
   ],
   "metadata": {
    "collapsed": false,
    "pycharm": {
     "name": "#%% md\n"
    }
   }
  },
  {
   "cell_type": "markdown",
   "source": [
    "Given a string s, find the length of the longest substring without repeating characters.\n",
    "\n",
    "\n",
    "\n",
    "Example 1:\n",
    "\n",
    "Input: s = \"abcabcbb\"\n",
    "\n",
    "Output: 3\n",
    "\n",
    "Explanation: The answer is \"abc\", with the length of 3.\n",
    "\n",
    "\n",
    "\n",
    "Example 2:\n",
    "\n",
    "Input: s = \"bbbbb\"\n",
    "\n",
    "Output: 1\n",
    "\n",
    "Explanation: The answer is \"b\", with the length of 1.\n",
    "\n",
    "\n",
    "\n",
    "Example 3:\n",
    "\n",
    "Input: s = \"pwwkew\"\n",
    "\n",
    "Output: 3\n",
    "\n",
    "Explanation: The answer is \"wke\", with the length of 3.\n",
    "\n",
    "Notice that the answer must be a substring, \"pwke\" is a subsequence and not a substring.\n",
    "\n",
    "\n",
    "\n",
    "Example 4:\n",
    "\n",
    "Input: s = \"\"\n",
    "\n",
    "Output: 0"
   ],
   "metadata": {
    "collapsed": false,
    "pycharm": {
     "name": "#%% md\n"
    }
   }
  },
  {
   "cell_type": "code",
   "execution_count": 43,
   "outputs": [
    {
     "name": "stdout",
     "output_type": "stream",
     "text": [
      " top this is i = 0, this is x=a\n",
      " top this is loop 2,i= 0, this is x=a, this is a = 0, this is cnt = 1\n",
      " top this is after loops i = 0, this is x=a, this is a = 0,  this is cnt = 1, letter dict = {'a': 0}\n",
      " top this is i = 1, this is x=b\n",
      " top this is loop 2,i= 1, this is x=b, this is a = 0, this is cnt = 2\n",
      " top this is after loops i = 1, this is x=b, this is a = 0,  this is cnt = 2, letter dict = {'a': 0, 'b': 1}\n",
      " top this is i = 2, this is x=c\n",
      " top this is loop 2,i= 2, this is x=c, this is a = 0, this is cnt = 3\n",
      " top this is after loops i = 2, this is x=c, this is a = 0,  this is cnt = 3, letter dict = {'a': 0, 'b': 1, 'c': 2}\n",
      " top this is i = 3, this is x=a\n",
      " top this is loop 1,  i= 3, this is x=a, this is a = 1, this is cnt = 3\n",
      " top this is after loops i = 3, this is x=a, this is a = 1,  this is cnt = 3, letter dict = {'a': 3, 'b': 1, 'c': 2}\n",
      " top this is i = 4, this is x=b\n",
      " top this is loop 1,  i= 4, this is x=b, this is a = 2, this is cnt = 3\n",
      " top this is after loops i = 4, this is x=b, this is a = 2,  this is cnt = 3, letter dict = {'a': 3, 'b': 4, 'c': 2}\n",
      " top this is i = 5, this is x=c\n",
      " top this is loop 1,  i= 5, this is x=c, this is a = 3, this is cnt = 3\n",
      " top this is after loops i = 5, this is x=c, this is a = 3,  this is cnt = 3, letter dict = {'a': 3, 'b': 4, 'c': 5}\n",
      " top this is i = 6, this is x=b\n",
      " top this is loop 1,  i= 6, this is x=b, this is a = 5, this is cnt = 3\n",
      " top this is after loops i = 6, this is x=b, this is a = 5,  this is cnt = 3, letter dict = {'a': 3, 'b': 6, 'c': 5}\n",
      " top this is i = 7, this is x=e\n",
      " top this is after loops i = 7, this is x=e, this is a = 5,  this is cnt = 3, letter dict = {'a': 3, 'b': 6, 'c': 5, 'e': 7}\n",
      "{'a': 3, 'b': 6, 'c': 5, 'e': 7}\n",
      "3\n"
     ]
    }
   ],
   "source": [
    "def lengthOfLongestSubstring(s: str) -> int:\n",
    "    letter_dict = {}\n",
    "    a = 0\n",
    "\n",
    "    cnt = 0\n",
    "\n",
    "    for i, x in enumerate(s):\n",
    "        print(f\" top this is i = {i}, this is x={x}\")\n",
    "        if x in letter_dict.keys():\n",
    "            a = letter_dict[x] + 1\n",
    "            print(f\" top this is loop 1,  i= {i}, this is x={x}, this is a = {a}, this is cnt = {cnt}\")\n",
    "        if (i-a) + 1 > cnt:\n",
    "            cnt = (i-a) + 1\n",
    "            print(f\" top this is loop 2,i= {i}, this is x={x}, this is a = {a}, this is cnt = {cnt}\")\n",
    "        letter_dict[x] = i\n",
    "        print(f\" top this is after loops i = {i}, this is x={x}, this is a = {a},  this is cnt = {cnt}, letter dict = {letter_dict}\")\n",
    "    print(letter_dict)\n",
    "    return cnt\n",
    "print(lengthOfLongestSubstring(\"abcabcbe\"))  # Output: (\"abc\", 3)\n",
    "#print(lengthOfLongestSubstring(\"bbbbb\"))     # Output: (\"b\", 1)\n",
    "#print(lengthOfLongestSubstring(\"pwwkew\"))    # Output: (\"wke\", 3)\n",
    "#print(lengthOfLongestSubstring(\"\"))          # Output: (\"\", 0)\n"
   ],
   "metadata": {
    "collapsed": false,
    "pycharm": {
     "name": "#%%\n"
    }
   }
  },
  {
   "cell_type": "markdown",
   "source": [
    "# Q3"
   ],
   "metadata": {
    "collapsed": false,
    "pycharm": {
     "name": "#%% md\n"
    }
   }
  },
  {
   "cell_type": "markdown",
   "source": [
    "Given a string s, return the string without numeric characters\n",
    "\n",
    "\n",
    "\n",
    "Example 1:\n",
    "\n",
    "Input: s = \"abb24ba2g6v9\"\n",
    "\n",
    "Output: \"abbbagv\"\n",
    "\n",
    "\n",
    "\n",
    "Example 2:\n",
    "\n",
    "Input: s = \"one1two2\"\n",
    "\n",
    "Output: \"onetwo\""
   ],
   "metadata": {
    "collapsed": false,
    "pycharm": {
     "name": "#%% md\n"
    }
   }
  },
  {
   "cell_type": "code",
   "execution_count": 29,
   "outputs": [
    {
     "name": "stdout",
     "output_type": "stream",
     "text": [
      "abbbagv\n",
      "onetwo\n"
     ]
    }
   ],
   "source": [
    "def remove_numeric_characters(s):\n",
    "    result = \"\"\n",
    "    for char in s:\n",
    "        if not char.isdigit():\n",
    "            result += char\n",
    "    return result\n",
    "s1 = \"abb24ba2g6v9\"\n",
    "output1 = remove_numeric_characters(s1)\n",
    "print(output1)  # Output: \"abbbagv\"\n",
    "\n",
    "s2 = \"one1two2\"\n",
    "output2 = remove_numeric_characters(s2)\n",
    "print(output2)  # Output: \"onetwo\""
   ],
   "metadata": {
    "collapsed": false,
    "pycharm": {
     "name": "#%%\n"
    }
   }
  },
  {
   "cell_type": "code",
   "execution_count": 46,
   "outputs": [
    {
     "name": "stdout",
     "output_type": "stream",
     "text": [
      "(1, 'q')\n",
      "(4, 'cbew')\n",
      "(1, 'b')\n",
      "(3, 'wke')\n",
      "(0, '')\n"
     ]
    }
   ],
   "source": [
    "def lengthOfLongestSubstring(s: str) -> (int, str):\n",
    "    letter_dict = {}\n",
    "    start = 0\n",
    "    max_length = 0\n",
    "    longest_substring = \"\"\n",
    "\n",
    "    for i, x in enumerate(s):\n",
    "        if x in letter_dict and letter_dict[x] >= start:\n",
    "            start = letter_dict[x] + 1\n",
    "        letter_dict[x] = i\n",
    "\n",
    "        current_length = i - start + 1\n",
    "        if current_length > max_length:\n",
    "            max_length = current_length\n",
    "            longest_substring = s[start:i+1]\n",
    "\n",
    "    return max_length, longest_substring\n",
    "print(lengthOfLongestSubstring(\"q\"))\n",
    "print(lengthOfLongestSubstring(\"abcabcbew\"))  # Output: (3, \"abc\")\n",
    "print(lengthOfLongestSubstring(\"bbbbb\"))     # Output: (1, \"b\")\n",
    "print(lengthOfLongestSubstring(\"pwwkew\"))    # Output: (3, \"wke\")\n",
    "print(lengthOfLongestSubstring(\"\"))          # Output: (0, \"\")"
   ],
   "metadata": {
    "collapsed": false,
    "pycharm": {
     "name": "#%%\n"
    }
   }
  },
  {
   "cell_type": "code",
   "execution_count": null,
   "outputs": [],
   "source": [],
   "metadata": {
    "collapsed": false,
    "pycharm": {
     "name": "#%%\n"
    }
   }
  }
 ],
 "metadata": {
  "kernelspec": {
   "display_name": "Python 3",
   "language": "python",
   "name": "python3"
  },
  "language_info": {
   "codemirror_mode": {
    "name": "ipython",
    "version": 2
   },
   "file_extension": ".py",
   "mimetype": "text/x-python",
   "name": "python",
   "nbconvert_exporter": "python",
   "pygments_lexer": "ipython2",
   "version": "2.7.6"
  }
 },
 "nbformat": 4,
 "nbformat_minor": 0
}